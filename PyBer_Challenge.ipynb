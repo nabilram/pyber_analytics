{
 "cells": [
  {
   "cell_type": "markdown",
   "source": [
    "# Pyber Challenge"
   ],
   "metadata": {}
  },
  {
   "cell_type": "markdown",
   "source": [
    "## Deliverable 0: Prep Data"
   ],
   "metadata": {}
  },
  {
   "cell_type": "code",
   "execution_count": 22,
   "source": [
    "# magic, dependencies, load data, merge\r\n",
    "%matplotlib inline\r\n",
    "\r\n",
    "import matplotlib.pyplot as plt\r\n",
    "import pandas as pd\r\n",
    "import numpy as np\r\n",
    "import datetime\r\n",
    "import matplotlib.dates as mdates\r\n",
    "\r\n",
    "city = \"resources/city_data.csv\"\r\n",
    "ride = \"resources/ride_data.csv\"\r\n",
    "city_df = pd.read_csv(city)\r\n",
    "ride_df = pd.read_csv(ride)\r\n",
    "\r\n",
    "pyber_df = pd.merge(ride_df, city_df, how = \"left\", on =[\"city\", \"city\"])"
   ],
   "outputs": [],
   "metadata": {}
  },
  {
   "cell_type": "markdown",
   "source": [
    "## Deliverable 1: Get a Summary DataFrame "
   ],
   "metadata": {}
  },
  {
   "cell_type": "code",
   "execution_count": 23,
   "source": [
    "# 1. Get the total rides for each city type\r\n",
    "total_rides = pyber_df.groupby([\"type\"]).count()[[\"ride_id\"]]\r\n",
    "\r\n",
    "# 2. get the total drivers for each city type\r\n",
    "driver_per_city = pyber_df[[\"type\", \"city\", \"driver_count\"]]\r\n",
    "driver_per_city = driver_per_city.drop_duplicates()\r\n",
    "\r\n",
    "total_drivers = driver_per_city.groupby([\"type\"]).sum()[[\"driver_count\"]]\r\n",
    "\r\n",
    "#  3. Get the total amount of fares for each city type\r\n",
    "total_fares = pyber_df.groupby([\"type\"]).sum()[[\"fare\"]]\r\n",
    "\r\n",
    "#  4. Get the average fare per ride for each city type.\r\n",
    "fare_per_ride = round(pyber_df.groupby([\"type\"]).sum()[\"fare\"] / pyber_df.groupby([\"type\"]).count()[\"ride_id\"], 2)\r\n",
    "\r\n",
    "# 5. Get the average fare per driver for each city type. \r\n",
    "fare_per_driver = round(pyber_df.groupby([\"type\"]).sum()[\"fare\"] / driver_per_city.groupby([\"type\"]).sum()[\"driver_count\"], 2)\r\n",
    "\r\n",
    "#  6. Create a PyBer summary DataFrame. \r\n",
    "pyber_summary_df = pd.concat([total_rides, total_drivers, total_fares, fare_per_ride, fare_per_driver], axis=1)\r\n",
    "pyber_summary_df.columns = [\"Total_Rides\", \"Total_Drivers\", \"Total_Fares\", \"Mean_Fare_Ride\", \"Mean_Fare_Driver\"]\r\n",
    "\r\n",
    "#  7 and 8. Cleaning up the DataFrame. Delete the index name + format as necessary\r\n",
    "pyber_summary_df.index.name = None\r\n",
    "pyber_summary_df[\"Total_Fares\"] = pyber_summary_df[\"Total_Fares\"].map(\"${:,.2f}\".format)\r\n",
    "pyber_summary_df[\"Mean_Fare_Ride\"] = pyber_summary_df[\"Mean_Fare_Ride\"].map(\"${:,.2f}\".format)\r\n",
    "pyber_summary_df[\"Mean_Fare_Driver\"] = pyber_summary_df[\"Mean_Fare_Driver\"].map(\"${:,.2f}\".format)\r\n",
    "pyber_summary_df"
   ],
   "outputs": [
    {
     "output_type": "execute_result",
     "data": {
      "text/html": [
       "<div>\n",
       "<style scoped>\n",
       "    .dataframe tbody tr th:only-of-type {\n",
       "        vertical-align: middle;\n",
       "    }\n",
       "\n",
       "    .dataframe tbody tr th {\n",
       "        vertical-align: top;\n",
       "    }\n",
       "\n",
       "    .dataframe thead th {\n",
       "        text-align: right;\n",
       "    }\n",
       "</style>\n",
       "<table border=\"1\" class=\"dataframe\">\n",
       "  <thead>\n",
       "    <tr style=\"text-align: right;\">\n",
       "      <th></th>\n",
       "      <th>Total_Rides</th>\n",
       "      <th>Total_Drivers</th>\n",
       "      <th>Total_Fares</th>\n",
       "      <th>Mean_Fare_Ride</th>\n",
       "      <th>Mean_Fare_Driver</th>\n",
       "    </tr>\n",
       "  </thead>\n",
       "  <tbody>\n",
       "    <tr>\n",
       "      <th>Rural</th>\n",
       "      <td>125</td>\n",
       "      <td>78</td>\n",
       "      <td>$4,327.93</td>\n",
       "      <td>$34.62</td>\n",
       "      <td>$55.49</td>\n",
       "    </tr>\n",
       "    <tr>\n",
       "      <th>Suburban</th>\n",
       "      <td>625</td>\n",
       "      <td>490</td>\n",
       "      <td>$19,356.33</td>\n",
       "      <td>$30.97</td>\n",
       "      <td>$39.50</td>\n",
       "    </tr>\n",
       "    <tr>\n",
       "      <th>Urban</th>\n",
       "      <td>1625</td>\n",
       "      <td>2405</td>\n",
       "      <td>$39,854.38</td>\n",
       "      <td>$24.53</td>\n",
       "      <td>$16.57</td>\n",
       "    </tr>\n",
       "  </tbody>\n",
       "</table>\n",
       "</div>"
      ],
      "text/plain": [
       "          Total_Rides  Total_Drivers Total_Fares Mean_Fare_Ride  \\\n",
       "Rural             125             78   $4,327.93         $34.62   \n",
       "Suburban          625            490  $19,356.33         $30.97   \n",
       "Urban            1625           2405  $39,854.38         $24.53   \n",
       "\n",
       "         Mean_Fare_Driver  \n",
       "Rural              $55.49  \n",
       "Suburban           $39.50  \n",
       "Urban              $16.57  "
      ]
     },
     "metadata": {},
     "execution_count": 23
    }
   ],
   "metadata": {}
  },
  {
   "cell_type": "code",
   "execution_count": 24,
   "source": [
    "# 2. get the total drivers for each city type\r\n",
    "driver_per_city = pyber_df[[\"type\", \"city\", \"driver_count\"]]\r\n",
    "driver_per_city = driver_per_city.drop_duplicates()\r\n",
    "driver_per_city"
   ],
   "outputs": [
    {
     "output_type": "execute_result",
     "data": {
      "text/html": [
       "<div>\n",
       "<style scoped>\n",
       "    .dataframe tbody tr th:only-of-type {\n",
       "        vertical-align: middle;\n",
       "    }\n",
       "\n",
       "    .dataframe tbody tr th {\n",
       "        vertical-align: top;\n",
       "    }\n",
       "\n",
       "    .dataframe thead th {\n",
       "        text-align: right;\n",
       "    }\n",
       "</style>\n",
       "<table border=\"1\" class=\"dataframe\">\n",
       "  <thead>\n",
       "    <tr style=\"text-align: right;\">\n",
       "      <th></th>\n",
       "      <th>type</th>\n",
       "      <th>city</th>\n",
       "      <th>driver_count</th>\n",
       "    </tr>\n",
       "  </thead>\n",
       "  <tbody>\n",
       "    <tr>\n",
       "      <th>0</th>\n",
       "      <td>Urban</td>\n",
       "      <td>Lake Jonathanshire</td>\n",
       "      <td>5</td>\n",
       "    </tr>\n",
       "    <tr>\n",
       "      <th>1</th>\n",
       "      <td>Urban</td>\n",
       "      <td>South Michelleport</td>\n",
       "      <td>72</td>\n",
       "    </tr>\n",
       "    <tr>\n",
       "      <th>2</th>\n",
       "      <td>Urban</td>\n",
       "      <td>Port Samanthamouth</td>\n",
       "      <td>57</td>\n",
       "    </tr>\n",
       "    <tr>\n",
       "      <th>3</th>\n",
       "      <td>Urban</td>\n",
       "      <td>Rodneyfort</td>\n",
       "      <td>34</td>\n",
       "    </tr>\n",
       "    <tr>\n",
       "      <th>4</th>\n",
       "      <td>Urban</td>\n",
       "      <td>South Jack</td>\n",
       "      <td>46</td>\n",
       "    </tr>\n",
       "    <tr>\n",
       "      <th>...</th>\n",
       "      <td>...</td>\n",
       "      <td>...</td>\n",
       "      <td>...</td>\n",
       "    </tr>\n",
       "    <tr>\n",
       "      <th>2271</th>\n",
       "      <td>Rural</td>\n",
       "      <td>Newtonview</td>\n",
       "      <td>1</td>\n",
       "    </tr>\n",
       "    <tr>\n",
       "      <th>2275</th>\n",
       "      <td>Rural</td>\n",
       "      <td>North Jaime</td>\n",
       "      <td>1</td>\n",
       "    </tr>\n",
       "    <tr>\n",
       "      <th>2276</th>\n",
       "      <td>Rural</td>\n",
       "      <td>Penaborough</td>\n",
       "      <td>6</td>\n",
       "    </tr>\n",
       "    <tr>\n",
       "      <th>2286</th>\n",
       "      <td>Rural</td>\n",
       "      <td>Harringtonfort</td>\n",
       "      <td>4</td>\n",
       "    </tr>\n",
       "    <tr>\n",
       "      <th>2297</th>\n",
       "      <td>Rural</td>\n",
       "      <td>West Heather</td>\n",
       "      <td>4</td>\n",
       "    </tr>\n",
       "  </tbody>\n",
       "</table>\n",
       "<p>120 rows × 3 columns</p>\n",
       "</div>"
      ],
      "text/plain": [
       "       type                city  driver_count\n",
       "0     Urban  Lake Jonathanshire             5\n",
       "1     Urban  South Michelleport            72\n",
       "2     Urban  Port Samanthamouth            57\n",
       "3     Urban          Rodneyfort            34\n",
       "4     Urban          South Jack            46\n",
       "...     ...                 ...           ...\n",
       "2271  Rural          Newtonview             1\n",
       "2275  Rural         North Jaime             1\n",
       "2276  Rural         Penaborough             6\n",
       "2286  Rural      Harringtonfort             4\n",
       "2297  Rural        West Heather             4\n",
       "\n",
       "[120 rows x 3 columns]"
      ]
     },
     "metadata": {},
     "execution_count": 24
    }
   ],
   "metadata": {}
  },
  {
   "cell_type": "code",
   "execution_count": 25,
   "source": [
    "#  3. Get the total amount of fares for each city type\r\n",
    "total_fares = pyber_df.groupby([\"type\"]).sum()[[\"fare\"]]\r\n",
    "total_fares"
   ],
   "outputs": [
    {
     "output_type": "execute_result",
     "data": {
      "text/html": [
       "<div>\n",
       "<style scoped>\n",
       "    .dataframe tbody tr th:only-of-type {\n",
       "        vertical-align: middle;\n",
       "    }\n",
       "\n",
       "    .dataframe tbody tr th {\n",
       "        vertical-align: top;\n",
       "    }\n",
       "\n",
       "    .dataframe thead th {\n",
       "        text-align: right;\n",
       "    }\n",
       "</style>\n",
       "<table border=\"1\" class=\"dataframe\">\n",
       "  <thead>\n",
       "    <tr style=\"text-align: right;\">\n",
       "      <th></th>\n",
       "      <th>fare</th>\n",
       "    </tr>\n",
       "    <tr>\n",
       "      <th>type</th>\n",
       "      <th></th>\n",
       "    </tr>\n",
       "  </thead>\n",
       "  <tbody>\n",
       "    <tr>\n",
       "      <th>Rural</th>\n",
       "      <td>4327.93</td>\n",
       "    </tr>\n",
       "    <tr>\n",
       "      <th>Suburban</th>\n",
       "      <td>19356.33</td>\n",
       "    </tr>\n",
       "    <tr>\n",
       "      <th>Urban</th>\n",
       "      <td>39854.38</td>\n",
       "    </tr>\n",
       "  </tbody>\n",
       "</table>\n",
       "</div>"
      ],
      "text/plain": [
       "              fare\n",
       "type              \n",
       "Rural      4327.93\n",
       "Suburban  19356.33\n",
       "Urban     39854.38"
      ]
     },
     "metadata": {},
     "execution_count": 25
    }
   ],
   "metadata": {}
  },
  {
   "cell_type": "code",
   "execution_count": 27,
   "source": [
    "#  4. Get the average fare per ride for each city type.\r\n",
    "fare_per_ride = round(pyber_df.groupby([\"type\"]).sum()[\"fare\"] / pyber_df.groupby([\"type\"]).count()[\"ride_id\"], 2)\r\n",
    "fare_per_ride"
   ],
   "outputs": [
    {
     "output_type": "execute_result",
     "data": {
      "text/plain": [
       "type\n",
       "Rural       34.62\n",
       "Suburban    30.97\n",
       "Urban       24.53\n",
       "dtype: float64"
      ]
     },
     "metadata": {},
     "execution_count": 27
    }
   ],
   "metadata": {}
  },
  {
   "cell_type": "code",
   "execution_count": 28,
   "source": [
    "# 5. Get the average fare per driver for each city type. \r\n",
    "fare_per_driver = round(pyber_df.groupby([\"type\"]).sum()[\"fare\"] / driver_per_city.groupby([\"type\"]).sum()[\"driver_count\"], 2)\r\n",
    "fare_per_driver"
   ],
   "outputs": [
    {
     "output_type": "execute_result",
     "data": {
      "text/plain": [
       "type\n",
       "Rural       55.49\n",
       "Suburban    39.50\n",
       "Urban       16.57\n",
       "dtype: float64"
      ]
     },
     "metadata": {},
     "execution_count": 28
    }
   ],
   "metadata": {}
  },
  {
   "cell_type": "code",
   "execution_count": 20,
   "source": [
    "#  6. Create a PyBer summary DataFrame. \r\n",
    "pyber_summary_df = pd.concat([total_rides, total_drivers, total_fares, fare_per_ride, fare_per_driver], axis=1)\r\n",
    "pyber_summary_df.columns = [\"Total_Rides\", \"Total_Drivers\", \"Total_Fares\", \"Mean_Fare_Ride\", \"Mean_Fare_Driver\"]"
   ],
   "outputs": [],
   "metadata": {}
  },
  {
   "cell_type": "code",
   "execution_count": 21,
   "source": [
    "#  7 and 8. Cleaning up the DataFrame. Delete the index name + format as necessary\r\n",
    "pyber_summary_df.index.name = None\r\n",
    "pyber_summary_df[\"Total_Fares\"] = pyber_summary_df[\"Total_Fares\"].map(\"${:,.2f}\".format)\r\n",
    "pyber_summary_df[\"Mean_Fare_Ride\"] = pyber_summary_df[\"Mean_Fare_Ride\"].map(\"${:,.2f}\".format)\r\n",
    "pyber_summary_df[\"Mean_Fare_Driver\"] = pyber_summary_df[\"Mean_Fare_Driver\"].map(\"${:,.2f}\".format)\r\n",
    "pyber_summary_df"
   ],
   "outputs": [
    {
     "output_type": "execute_result",
     "data": {
      "text/html": [
       "<div>\n",
       "<style scoped>\n",
       "    .dataframe tbody tr th:only-of-type {\n",
       "        vertical-align: middle;\n",
       "    }\n",
       "\n",
       "    .dataframe tbody tr th {\n",
       "        vertical-align: top;\n",
       "    }\n",
       "\n",
       "    .dataframe thead th {\n",
       "        text-align: right;\n",
       "    }\n",
       "</style>\n",
       "<table border=\"1\" class=\"dataframe\">\n",
       "  <thead>\n",
       "    <tr style=\"text-align: right;\">\n",
       "      <th></th>\n",
       "      <th>Total_Rides</th>\n",
       "      <th>Total_Drivers</th>\n",
       "      <th>Total_Fares</th>\n",
       "      <th>Mean_Fare_Ride</th>\n",
       "      <th>Mean_Fare_Driver</th>\n",
       "    </tr>\n",
       "  </thead>\n",
       "  <tbody>\n",
       "    <tr>\n",
       "      <th>Rural</th>\n",
       "      <td>125</td>\n",
       "      <td>78</td>\n",
       "      <td>$4,327.93</td>\n",
       "      <td>$34.62</td>\n",
       "      <td>$55.49</td>\n",
       "    </tr>\n",
       "    <tr>\n",
       "      <th>Suburban</th>\n",
       "      <td>625</td>\n",
       "      <td>490</td>\n",
       "      <td>$19,356.33</td>\n",
       "      <td>$30.97</td>\n",
       "      <td>$39.50</td>\n",
       "    </tr>\n",
       "    <tr>\n",
       "      <th>Urban</th>\n",
       "      <td>1625</td>\n",
       "      <td>2405</td>\n",
       "      <td>$39,854.38</td>\n",
       "      <td>$24.53</td>\n",
       "      <td>$16.57</td>\n",
       "    </tr>\n",
       "  </tbody>\n",
       "</table>\n",
       "</div>"
      ],
      "text/plain": [
       "          Total_Rides  Total_Drivers Total_Fares Mean_Fare_Ride  \\\n",
       "Rural             125             78   $4,327.93         $34.62   \n",
       "Suburban          625            490  $19,356.33         $30.97   \n",
       "Urban            1625           2405  $39,854.38         $24.53   \n",
       "\n",
       "         Mean_Fare_Driver  \n",
       "Rural              $55.49  \n",
       "Suburban           $39.50  \n",
       "Urban              $16.57  "
      ]
     },
     "metadata": {},
     "execution_count": 21
    }
   ],
   "metadata": {}
  },
  {
   "cell_type": "code",
   "execution_count": null,
   "source": [],
   "outputs": [],
   "metadata": {}
  },
  {
   "cell_type": "markdown",
   "source": [
    "## Deliverable 2.  Create a multiple line plot that shows the total weekly of the fares for each type of city."
   ],
   "metadata": {}
  },
  {
   "cell_type": "code",
   "execution_count": 10,
   "source": [
    "# 1. Read the merged DataFrame\r\n",
    "pyber_data_df = pyber_df\r\n",
    "\r\n",
    "# 2. use groupy to assign type date and date as index, sum up fares per city types\r\n",
    "fare_per_city_date = pyber_data_df.groupby([\"type\", \"date\"]).sum()[[\"fare\"]]\r\n",
    "\r\n",
    "# 3. Reset the index on the DataFrame you created in #1. This is needed to use the 'pivot()' function.\r\n",
    "pyber_data_df = pyber_data_df.reset_index()\r\n",
    "\r\n",
    "# 4. Create a pivot table with the 'date' as the index, the columns ='type', and values='fare' \r\n",
    "# to get the total fares for each type of city by the date. \r\n",
    "pyber_weekly_df = pyber_data_df.pivot(index = \"date\", columns = \"type\" , values = \"fare\")\r\n",
    "\r\n",
    "# 5. Create a new DataFrame from the pivot table DataFrame using loc on the given dates, '2019-01-01':'2019-04-29'\r\n",
    "pyber_weekly_df['date'] = pd.to_datetime(pyber_weekly_df.index)\r\n",
    "start_date = datetime.datetime(2019, 1, 1)  \r\n",
    "end_date = datetime.datetime(2019, 4, 29)\r\n",
    "\r\n",
    "pyber_jan_apr = pyber_weekly_df.loc[(pyber_weekly_df[\"date\"] >= start_date) & (pyber_weekly_df[\"date\"] <= end_date)]\r\n",
    "pyber_jan_apr = pyber_jan_apr.drop(\"date\", axis = 1)\r\n",
    "\r\n",
    "# 6. Set the \"date\" index to datetime datatype. This is necessary to use the resample() method in Step 8.\r\n",
    "pyber_jan_apr.index = pd.to_datetime(pyber_jan_apr.index)\r\n",
    "\r\n",
    "# 7. Create a new DataFrame using the \"resample()\" function by week 'W' and get the sum of the fares for each week.\r\n",
    "pyber_resample = pyber_jan_apr.resample('W').sum()\r\n",
    "\r\n",
    "#fare_per_city_date\r\n",
    "#pyber_weekly_df\r\n",
    "#pyber_jan_apr\r\n",
    "#pyber_resample\r\n",
    "#pyber_resample\r\n",
    "\r\n",
    "# 8. Using the object-oriented interface method, plot the resample DataFrame using the df.plot() function.\r\n",
    "#pyber_resample['date'] = pd.to_datetime(pyber_resample.index)\r\n",
    "\r\n",
    "from matplotlib import style\r\n",
    "plt.style.use('fivethirtyeight')\r\n",
    "\r\n",
    "fig, ax = plt.subplots()\r\n",
    "ax.plot(pyber_resample.index, pyber_resample[\"Urban\"], color=\"gold\", linewidth=3, label='Urban')\r\n",
    "ax.plot(pyber_resample.index, pyber_resample[\"Suburban\"], color=\"coral\", linewidth=3, label='Sububan')\r\n",
    "ax.plot(pyber_resample.index, pyber_resample[\"Rural\"], color=\"blue\", linewidth=3, label='Rural')\r\n",
    "\r\n",
    "plt.rcParams[\"figure.figsize\"]= (12,6)\r\n",
    "plt.title(\"2019:Fare by City Type\")\r\n",
    "plt.legend()\r\n",
    "plt.ylabel(\"Fare($)\")\r\n",
    "ax.xaxis.set_major_formatter(mdates.DateFormatter(\"%b-%d\"))\r\n",
    "plt.savefig('analysis/fare_city_weekly.png')\r\n",
    "\r\n",
    "plt.show()"
   ],
   "outputs": [
    {
     "output_type": "display_data",
     "data": {
      "image/png": "[encoded data removed]",
      "text/plain": [
       "<Figure size 864x432 with 1 Axes>"
      ]
     },
     "metadata": {}
    }
   ],
   "metadata": {}
  },
  {
   "cell_type": "markdown",
   "source": [],
   "metadata": {}
  }
 ],
 "metadata": {
  "anaconda-cloud": {},
  "kernelspec": {
   "name": "python3",
   "display_name": "Python 3.7.10 64-bit ('PythonData': conda)"
  },
  "language_info": {
   "codemirror_mode": {
    "name": "ipython",
    "version": 3
   },
   "file_extension": ".py",
   "mimetype": "text/x-python",
   "name": "python",
   "nbconvert_exporter": "python",
   "pygments_lexer": "ipython3",
   "version": "3.7.10"
  },
  "interpreter": {
   "hash": "cbb7df293b7b8f6ff85d270e69b92021948083b8a6af9f76ed1d2a6bc37e8e5b"
  }
 },
 "nbformat": 4,
 "nbformat_minor": 2
}