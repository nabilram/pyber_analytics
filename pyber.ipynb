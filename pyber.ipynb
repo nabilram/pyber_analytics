{
 "cells": [
  {
   "cell_type": "code",
   "execution_count": 2,
   "id": "fe4a807b",
   "metadata": {},
   "outputs": [],
   "source": [
    "# magic, dependencies, load data\n",
    "%matplotlib inline\n",
    "import matplotlib.pyplot as plt\n",
    "import numpy as np\n",
    "import pandas as pd\n",
    "city = \"resources/city_data.csv\"\n",
    "ride = \"resources/ride_data.csv\"\n",
    "city_df = pd.read_csv(city)\n",
    "ride_df = pd.read_csv(ride)"
   ]
  },
  {
   "cell_type": "code",
   "execution_count": null,
   "id": "4a5ce9d6",
   "metadata": {},
   "outputs": [],
   "source": [
    "# do some data checks, mostly for nulls\n",
    "city_df.count()\n",
    "city_df.isnull().sum()\n",
    "city_df.dtypes\n",
    "ride_df.count()\n",
    "ride_df.isnull().sum()\n",
    "city_df.dtypes\n",
    "city_df[\"type\"].unique()\n",
    "sum(city_df[\"type\"]==\"Rural\")"
   ]
  },
  {
   "cell_type": "code",
   "execution_count": 6,
   "id": "6f46a81a",
   "metadata": {},
   "outputs": [],
   "source": [
    "#merge and create DFs per city type\n",
    "pyber_df = pd.merge(ride_df, city_df, how = \"left\", on =[\"city\", \"city\"])\n",
    "urban_df = pyber_df[pyber_df[\"type\"] == \"Urban\"]\n",
    "suburban_df = pyber_df[pyber_df[\"type\"] == \"Suburban\"]\n",
    "rural_df = pyber_df[pyber_df[\"type\"] == \"Rural\"]"
   ]
  },
  {
   "cell_type": "code",
   "execution_count": null,
   "id": "181fbb33",
   "metadata": {},
   "outputs": [],
   "source": []
  }
 ],
 "metadata": {
  "interpreter": {
   "hash": "cbb7df293b7b8f6ff85d270e69b92021948083b8a6af9f76ed1d2a6bc37e8e5b"
  },
  "kernelspec": {
   "display_name": "Python 3",
   "language": "python",
   "name": "python3"
  },
  "language_info": {
   "codemirror_mode": {
    "name": "ipython",
    "version": 3
   },
   "file_extension": ".py",
   "mimetype": "text/x-python",
   "name": "python",
   "nbconvert_exporter": "python",
   "pygments_lexer": "ipython3",
   "version": "3.7.10"
  }
 },
 "nbformat": 4,
 "nbformat_minor": 5
}
