{
 "cells": [
  {
   "cell_type": "code",
   "execution_count": null,
   "id": "0b72730b",
   "metadata": {},
   "outputs": [],
   "source": [
    "# magic, dependencies, load data\r\n",
    "%matplotlib inline\r\n",
    "\r\n",
    "import matplotlib.pyplot as plt\r\n",
    "import numpy as np\r\n",
    "import pandas as pd\r\n",
    "\r\n",
    "city = \"resources/city_data.csv\"\r\n",
    "ride = \"resources/ride_data.csv\"\r\n",
    "city_df = pd.read_csv(city)\r\n",
    "ride_df = pd.read_csv(ride)"
   ]
  },
  {
   "cell_type": "code",
   "execution_count": null,
   "id": "3f38ff94",
   "metadata": {},
   "outputs": [],
   "source": [
    "# do some data checks, mostly for nulls\n",
    "city_df.count()\r\n",
    "city_df.isnull().sum()\r\n",
    "city_df.dtyp\n",
    "ride_df.count()\n",
    "ride_df.isnull().sum()\n",
    "city_df.dtypes\n",
    "city_df[\"type\"].unique()\n",
    "sum(city_df[\"type\"]==\"Rural\" )es"
   ]
  },
  {
   "cell_type": "code",
   "execution_count": null,
   "id": "d2e93422",
   "metadata": {},
   "outputs": [],
   "source": [
    "# merge data\n",
    "pyber_df = pd.merge(ride_df, city_df, how = \"left\", on = [\"city\", \"city\"])\r\n",
    "pyber_df"
   ]
  },
  {
   "cell_type": "code",
   "execution_count": null,
   "id": "0c76dc46",
   "metadata": {},
   "outputs": [],
   "source": [
    "#create DFs per city type\n",
    "urban_df = pyber_df[pyber_df[\"type\"] == \"Urban\"]\n",
    "suburban_df = pyber_df[pyber_df[\"type\"] == \"Suburban\"]\n",
    "rural_df = pyber_df[pyber_df[\"type\"] == \"Rural\"]\n",
    "rural_df"
   ]
  },
  {
   "cell_type": "code",
   "execution_count": null,
   "id": "831abee2-7d7a-49f0-9e7f-47ad07e3265c",
   "metadata": {},
   "outputs": [],
   "source": []
  }
 ],
 "metadata": {
  "interpreter": {
   "hash": "cbb7df293b7b8f6ff85d270e69b92021948083b8a6af9f76ed1d2a6bc37e8e5b"
  },
  "kernelspec": {
   "display_name": "PythonData",
   "language": "python",
   "name": "pythondata"
  },
  "language_info": {
   "codemirror_mode": {
    "name": "ipython",
    "version": 3
   },
   "file_extension": ".py",
   "mimetype": "text/x-python",
   "name": "python",
   "nbconvert_exporter": "python",
   "pygments_lexer": "ipython3",
   "version": "3.7.10"
  }
 },
 "nbformat": 4,
 "nbformat_minor": 5
}
